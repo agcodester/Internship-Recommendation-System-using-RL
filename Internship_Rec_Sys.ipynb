{
 "cells": [
  {
   "cell_type": "markdown",
   "metadata": {
    "id": "P1Zfgergkz_Z"
   },
   "source": [
    "##Downloading Required Libraries"
   ]
  },
  {
   "cell_type": "markdown",
   "metadata": {
    "id": "Fdmr5DyelbSl"
   },
   "source": [
    "Spacy Library"
   ]
  },
  {
   "cell_type": "code",
   "execution_count": null,
   "metadata": {
    "colab": {
     "base_uri": "https://localhost:8080/"
    },
    "id": "0EIAZDUkdJno",
    "outputId": "89c2f92a-4381-4984-ea3a-973ef223fd32"
   },
   "outputs": [],
   "source": [
    "!python -m spacy download en_core_web_md"
   ]
  },
  {
   "cell_type": "code",
   "execution_count": null,
   "metadata": {
    "colab": {
     "base_uri": "https://localhost:8080/"
    },
    "collapsed": true,
    "id": "fl74vmTlnn1x",
    "outputId": "6459ebc9-30d4-4d7c-d640-f6981a5d334f"
   },
   "outputs": [],
   "source": [
    "!pip install spacy==2.3.1"
   ]
  },
  {
   "cell_type": "code",
   "execution_count": null,
   "metadata": {
    "colab": {
     "base_uri": "https://localhost:8080/"
    },
    "id": "4wcQ9BWrkmuH",
    "outputId": "a90268a3-6bfa-4337-a1bb-11a055bc6ea2"
   },
   "outputs": [],
   "source": [
    "!pip install https://github.com/explosion/spacy-models/releases/download/en_core_web_sm-2.3.1/en_core_web_sm-2.3.1.tar.gz"
   ]
  },
  {
   "cell_type": "markdown",
   "metadata": {
    "id": "sHcVsbYplgmM"
   },
   "source": [
    "Pyresparser library which reads resume and stores required information."
   ]
  },
  {
   "cell_type": "code",
   "execution_count": null,
   "metadata": {
    "colab": {
     "base_uri": "https://localhost:8080/"
    },
    "id": "ncs4isOAj-JR",
    "outputId": "50ee546c-a03a-4465-d45a-6af640e0de44"
   },
   "outputs": [],
   "source": [
    "!pip install pyresparser"
   ]
  },
  {
   "cell_type": "markdown",
   "metadata": {
    "id": "94BGB_HslrJ_"
   },
   "source": [
    "##Importing Libraries:"
   ]
  },
  {
   "cell_type": "code",
   "execution_count": null,
   "metadata": {
    "colab": {
     "base_uri": "https://localhost:8080/"
    },
    "id": "IEI4yRJhfgTu",
    "outputId": "a229262b-fb45-4323-e42a-26abe5f7fa70"
   },
   "outputs": [],
   "source": [
    "import pandas as pd\n",
    "import spacy\n",
    "import numpy as np\n",
    "import random\n",
    "import nltk\n",
    "nltk.download('stopwords')\n",
    "\n",
    "# Load the spaCy model\n",
    "nlp = spacy.load(\"en_core_web_md\")"
   ]
  },
  {
   "cell_type": "markdown",
   "metadata": {
    "id": "7pX1q-1Lluh2"
   },
   "source": [
    "Importing Internship Dataset"
   ]
  },
  {
   "cell_type": "code",
   "execution_count": null,
   "metadata": {
    "id": "hhPw4xj3nJib"
   },
   "outputs": [],
   "source": [
    "df = pd.read_csv('/content/recomm_df.csv')"
   ]
  },
  {
   "cell_type": "code",
   "execution_count": null,
   "metadata": {
    "colab": {
     "base_uri": "https://localhost:8080/",
     "height": 504
    },
    "id": "CuYBTF3Jdyen",
    "outputId": "3455240f-74c5-42ed-a5ad-f89e08264a48"
   },
   "outputs": [
    {
     "data": {
      "application/vnd.google.colaboratory.intrinsic+json": {
       "summary": "{\n  \"name\": \"df\",\n  \"rows\": 626,\n  \"fields\": [\n    {\n      \"column\": \"id\",\n      \"properties\": {\n        \"dtype\": \"number\",\n        \"std\": 189,\n        \"min\": 1,\n        \"max\": 653,\n        \"num_unique_values\": 626,\n        \"samples\": [\n          468,\n          509,\n          227\n        ],\n        \"semantic_type\": \"\",\n        \"description\": \"\"\n      }\n    },\n    {\n      \"column\": \"href\",\n      \"properties\": {\n        \"dtype\": \"string\",\n        \"num_unique_values\": 626,\n        \"samples\": [\n          \"http://letsintern.com/internship/content-manager-internships/holiday-tripffee-llp/content-writer/95407\",\n          \"http://letsintern.com/internship/aircraft-cargo-handling-supervisor-internships/brand-me-high/domestic-airlines-are-hiring-ground-staff-kolkata/103089\",\n          \"http://letsintern.com/internship/human-resources-recruiter-internships/proveer-consulting/recruitment-associate-intern/102230\"\n        ],\n        \"semantic_type\": \"\",\n        \"description\": \"\"\n      }\n    },\n    {\n      \"column\": \"job_title\",\n      \"properties\": {\n        \"dtype\": \"string\",\n        \"num_unique_values\": 445,\n        \"samples\": [\n          \"cabin crew for spicejet airlines\",\n          \"content writing / digital marketing\",\n          \"office staff & branch staff recruitment notice\"\n        ],\n        \"semantic_type\": \"\",\n        \"description\": \"\"\n      }\n    },\n    {\n      \"column\": \"company_name\",\n      \"properties\": {\n        \"dtype\": \"string\",\n        \"num_unique_values\": 341,\n        \"samples\": [\n          \"numinous consulting\",\n          \"sarthak infotech\",\n          \"finrex treasury advisors\"\n        ],\n        \"semantic_type\": \"\",\n        \"description\": \"\"\n      }\n    },\n    {\n      \"column\": \"job_loc\",\n      \"properties\": {\n        \"dtype\": \"category\",\n        \"num_unique_values\": 169,\n        \"samples\": [\n          \"chakdaha,kalyani,murshidabad,ranaghat\",\n          \"dehradun\",\n          \"hyderabad,bangalore,mumbai,pune,kolkata,guruharsahai\"\n        ],\n        \"semantic_type\": \"\",\n        \"description\": \"\"\n      }\n    },\n    {\n      \"column\": \"details\",\n      \"properties\": {\n        \"dtype\": \"string\",\n        \"num_unique_values\": 555,\n        \"samples\": [\n          \"               we are looking for super smart young professionals to help our organization grow in new verticals. we are a start up and want to now foray into talent management and producing digital ads/corporate videos. we are currently into full-time casting of non-fiction tv shows & line producing the same in delhi/north.                               1. pitching our company & setting up meetings with potential clients.2. developing the marketing strategy for the company in line with company objectives.3. managing talent 5. arranging performances or publicity events for clients6. establishing professional relationships with people and organizations                \",\n          \"               we are offering an internship opportunity to students for a duration 2-3 months. this would be for healthcare payments business of paytm.internship details are as below:eligible candidates: current students (management, engineering, others)/freshers who are willing to experience working at a high growth startupwhat we are looking for:- comfort with field sales role- strong relationship building \",\n          \"               we are looking for an experienced web developer with strong hands-on experience in .net and microsoft technologies primarily to join our team and work on a cloud based distributed system. you will be part of a team directly affecting new products. this opportunity will allow you to grow and gain more responsibilities with time as we are seeking someone to be in the core team of a start-up.candidate should ideally have/be:\\u2022 strong knowledge of object oriented programming concepts\\u2022 strong knowledge of any web technology like java/microsoft technologies/other web technologies.\\u2022 well-versed in database concepts\\u2022 should have good analytical, problem solving and communication \"\n        ],\n        \"semantic_type\": \"\",\n        \"description\": \"\"\n      }\n    },\n    {\n      \"column\": \"category\",\n      \"properties\": {\n        \"dtype\": \"category\",\n        \"num_unique_values\": 116,\n        \"samples\": [\n          \"chemical engineer\",\n          \"software developer : python\",\n          \"air traffic controller\"\n        ],\n        \"semantic_type\": \"\",\n        \"description\": \"\"\n      }\n    },\n    {\n      \"column\": \"compensation\",\n      \"properties\": {\n        \"dtype\": \"category\",\n        \"num_unique_values\": 2,\n        \"samples\": [\n          \"unpaid\",\n          \"paid\"\n        ],\n        \"semantic_type\": \"\",\n        \"description\": \"\"\n      }\n    },\n    {\n      \"column\": \"start\",\n      \"properties\": {\n        \"dtype\": \"object\",\n        \"num_unique_values\": 182,\n        \"samples\": [\n          \"2018-04-30\",\n          \"2018-10-28\"\n        ],\n        \"semantic_type\": \"\",\n        \"description\": \"\"\n      }\n    },\n    {\n      \"column\": \"end\",\n      \"properties\": {\n        \"dtype\": \"object\",\n        \"num_unique_values\": 165,\n        \"samples\": [\n          \"2020-03-05\",\n          \"2019-09-06\"\n        ],\n        \"semantic_type\": \"\",\n        \"description\": \"\"\n      }\n    },\n    {\n      \"column\": \"skills\",\n      \"properties\": {\n        \"dtype\": \"category\",\n        \"num_unique_values\": 294,\n        \"samples\": [\n          \"                  analytical skills,computer literacy,writing skills,vocabulary\",\n          \"                  mechanical engineering\"\n        ],\n        \"semantic_type\": \"\",\n        \"description\": \"\"\n      }\n    },\n    {\n      \"column\": \"href.1\",\n      \"properties\": {\n        \"dtype\": \"string\",\n        \"num_unique_values\": 626,\n        \"samples\": [\n          \"http://letsintern.com/internship/Content-Manager-internships/Holiday-Tripffee-LLP/Content-Writer/95407\",\n          \"http://letsintern.com/internship/Aircraft-Cargo-Handling-Supervisor-internships/brand-me-high/DOMESTIC-AIRLINES-ARE-HIRING-GROUND-STAFF-KOLKATA/103089\"\n        ],\n        \"semantic_type\": \"\",\n        \"description\": \"\"\n      }\n    }\n  ]\n}",
       "type": "dataframe",
       "variable_name": "df"
      },
      "text/html": [
       "\n",
       "  <div id=\"df-96962737-fd8e-4fcb-b604-9742abb22a5b\" class=\"colab-df-container\">\n",
       "    <div>\n",
       "<style scoped>\n",
       "    .dataframe tbody tr th:only-of-type {\n",
       "        vertical-align: middle;\n",
       "    }\n",
       "\n",
       "    .dataframe tbody tr th {\n",
       "        vertical-align: top;\n",
       "    }\n",
       "\n",
       "    .dataframe thead th {\n",
       "        text-align: right;\n",
       "    }\n",
       "</style>\n",
       "<table border=\"1\" class=\"dataframe\">\n",
       "  <thead>\n",
       "    <tr style=\"text-align: right;\">\n",
       "      <th></th>\n",
       "      <th>id</th>\n",
       "      <th>href</th>\n",
       "      <th>job_title</th>\n",
       "      <th>company_name</th>\n",
       "      <th>job_loc</th>\n",
       "      <th>details</th>\n",
       "      <th>category</th>\n",
       "      <th>compensation</th>\n",
       "      <th>start</th>\n",
       "      <th>end</th>\n",
       "      <th>skills</th>\n",
       "      <th>href.1</th>\n",
       "    </tr>\n",
       "  </thead>\n",
       "  <tbody>\n",
       "    <tr>\n",
       "      <th>0</th>\n",
       "      <td>1</td>\n",
       "      <td>http://letsintern.com/internship/human-resourc...</td>\n",
       "      <td>hr executive - recruitment</td>\n",
       "      <td>engenia technologies</td>\n",
       "      <td>gurgaon</td>\n",
       "      <td>we are seeking a hr recruiter w...</td>\n",
       "      <td>human resources recruiter</td>\n",
       "      <td>paid</td>\n",
       "      <td>2019-03-02</td>\n",
       "      <td>2019-08-28</td>\n",
       "      <td>hr practices</td>\n",
       "      <td>http://letsintern.com/internship/Human-Resourc...</td>\n",
       "    </tr>\n",
       "    <tr>\n",
       "      <th>1</th>\n",
       "      <td>2</td>\n",
       "      <td>http://letsintern.com/internship/tele-sales-ex...</td>\n",
       "      <td>telecalling &amp; lead generation</td>\n",
       "      <td>abalone technologies pvt ltd</td>\n",
       "      <td>noida</td>\n",
       "      <td>selected intern's day-to-day re...</td>\n",
       "      <td>tele sales executive</td>\n",
       "      <td>paid</td>\n",
       "      <td>2019-02-17</td>\n",
       "      <td>2019-08-30</td>\n",
       "      <td>office administration</td>\n",
       "      <td>http://letsintern.com/internship/Tele-Sales-Ex...</td>\n",
       "    </tr>\n",
       "    <tr>\n",
       "      <th>2</th>\n",
       "      <td>3</td>\n",
       "      <td>http://letsintern.com/internship/marketing-pro...</td>\n",
       "      <td>digital marketing internship</td>\n",
       "      <td>brandstory digital marketing company</td>\n",
       "      <td>bangalore</td>\n",
       "      <td>are you looking for digital mar...</td>\n",
       "      <td>marketing professional</td>\n",
       "      <td>paid</td>\n",
       "      <td>2018-12-25</td>\n",
       "      <td>2020-04-29</td>\n",
       "      <td>digital marketing</td>\n",
       "      <td>http://letsintern.com/internship/Marketing-Pro...</td>\n",
       "    </tr>\n",
       "    <tr>\n",
       "      <th>3</th>\n",
       "      <td>4</td>\n",
       "      <td>http://letsintern.com/internship/accountant-in...</td>\n",
       "      <td>recruitment of corporate bank back office post</td>\n",
       "      <td>bandhan pvt.ltd</td>\n",
       "      <td>kathua,barasat,bardhaman,bongoan,habra</td>\n",
       "      <td>huge opportunity in corporate b...</td>\n",
       "      <td>accountant</td>\n",
       "      <td>paid</td>\n",
       "      <td>2019-03-12</td>\n",
       "      <td>NaN</td>\n",
       "      <td>analytical skills</td>\n",
       "      <td>http://letsintern.com/internship/Accountant-in...</td>\n",
       "    </tr>\n",
       "    <tr>\n",
       "      <th>4</th>\n",
       "      <td>5</td>\n",
       "      <td>http://letsintern.com/internship/software-deve...</td>\n",
       "      <td>software developer</td>\n",
       "      <td>trippyigloo</td>\n",
       "      <td>bangalore</td>\n",
       "      <td>we are looking for interns who ...</td>\n",
       "      <td>software developer : python</td>\n",
       "      <td>paid</td>\n",
       "      <td>2019-01-30</td>\n",
       "      <td>2019-06-20</td>\n",
       "      <td>go(golang),java,mongodb,ngin...</td>\n",
       "      <td>http://letsintern.com/internship/Software-Deve...</td>\n",
       "    </tr>\n",
       "  </tbody>\n",
       "</table>\n",
       "</div>\n",
       "    <div class=\"colab-df-buttons\">\n",
       "\n",
       "  <div class=\"colab-df-container\">\n",
       "    <button class=\"colab-df-convert\" onclick=\"convertToInteractive('df-96962737-fd8e-4fcb-b604-9742abb22a5b')\"\n",
       "            title=\"Convert this dataframe to an interactive table.\"\n",
       "            style=\"display:none;\">\n",
       "\n",
       "  <svg xmlns=\"http://www.w3.org/2000/svg\" height=\"24px\" viewBox=\"0 -960 960 960\">\n",
       "    <path d=\"M120-120v-720h720v720H120Zm60-500h600v-160H180v160Zm220 220h160v-160H400v160Zm0 220h160v-160H400v160ZM180-400h160v-160H180v160Zm440 0h160v-160H620v160ZM180-180h160v-160H180v160Zm440 0h160v-160H620v160Z\"/>\n",
       "  </svg>\n",
       "    </button>\n",
       "\n",
       "  <style>\n",
       "    .colab-df-container {\n",
       "      display:flex;\n",
       "      gap: 12px;\n",
       "    }\n",
       "\n",
       "    .colab-df-convert {\n",
       "      background-color: #E8F0FE;\n",
       "      border: none;\n",
       "      border-radius: 50%;\n",
       "      cursor: pointer;\n",
       "      display: none;\n",
       "      fill: #1967D2;\n",
       "      height: 32px;\n",
       "      padding: 0 0 0 0;\n",
       "      width: 32px;\n",
       "    }\n",
       "\n",
       "    .colab-df-convert:hover {\n",
       "      background-color: #E2EBFA;\n",
       "      box-shadow: 0px 1px 2px rgba(60, 64, 67, 0.3), 0px 1px 3px 1px rgba(60, 64, 67, 0.15);\n",
       "      fill: #174EA6;\n",
       "    }\n",
       "\n",
       "    .colab-df-buttons div {\n",
       "      margin-bottom: 4px;\n",
       "    }\n",
       "\n",
       "    [theme=dark] .colab-df-convert {\n",
       "      background-color: #3B4455;\n",
       "      fill: #D2E3FC;\n",
       "    }\n",
       "\n",
       "    [theme=dark] .colab-df-convert:hover {\n",
       "      background-color: #434B5C;\n",
       "      box-shadow: 0px 1px 3px 1px rgba(0, 0, 0, 0.15);\n",
       "      filter: drop-shadow(0px 1px 2px rgba(0, 0, 0, 0.3));\n",
       "      fill: #FFFFFF;\n",
       "    }\n",
       "  </style>\n",
       "\n",
       "    <script>\n",
       "      const buttonEl =\n",
       "        document.querySelector('#df-96962737-fd8e-4fcb-b604-9742abb22a5b button.colab-df-convert');\n",
       "      buttonEl.style.display =\n",
       "        google.colab.kernel.accessAllowed ? 'block' : 'none';\n",
       "\n",
       "      async function convertToInteractive(key) {\n",
       "        const element = document.querySelector('#df-96962737-fd8e-4fcb-b604-9742abb22a5b');\n",
       "        const dataTable =\n",
       "          await google.colab.kernel.invokeFunction('convertToInteractive',\n",
       "                                                    [key], {});\n",
       "        if (!dataTable) return;\n",
       "\n",
       "        const docLinkHtml = 'Like what you see? Visit the ' +\n",
       "          '<a target=\"_blank\" href=https://colab.research.google.com/notebooks/data_table.ipynb>data table notebook</a>'\n",
       "          + ' to learn more about interactive tables.';\n",
       "        element.innerHTML = '';\n",
       "        dataTable['output_type'] = 'display_data';\n",
       "        await google.colab.output.renderOutput(dataTable, element);\n",
       "        const docLink = document.createElement('div');\n",
       "        docLink.innerHTML = docLinkHtml;\n",
       "        element.appendChild(docLink);\n",
       "      }\n",
       "    </script>\n",
       "  </div>\n",
       "\n",
       "\n",
       "<div id=\"df-93a8bda1-2191-4d1d-9b79-dee4921e91bb\">\n",
       "  <button class=\"colab-df-quickchart\" onclick=\"quickchart('df-93a8bda1-2191-4d1d-9b79-dee4921e91bb')\"\n",
       "            title=\"Suggest charts\"\n",
       "            style=\"display:none;\">\n",
       "\n",
       "<svg xmlns=\"http://www.w3.org/2000/svg\" height=\"24px\"viewBox=\"0 0 24 24\"\n",
       "     width=\"24px\">\n",
       "    <g>\n",
       "        <path d=\"M19 3H5c-1.1 0-2 .9-2 2v14c0 1.1.9 2 2 2h14c1.1 0 2-.9 2-2V5c0-1.1-.9-2-2-2zM9 17H7v-7h2v7zm4 0h-2V7h2v10zm4 0h-2v-4h2v4z\"/>\n",
       "    </g>\n",
       "</svg>\n",
       "  </button>\n",
       "\n",
       "<style>\n",
       "  .colab-df-quickchart {\n",
       "      --bg-color: #E8F0FE;\n",
       "      --fill-color: #1967D2;\n",
       "      --hover-bg-color: #E2EBFA;\n",
       "      --hover-fill-color: #174EA6;\n",
       "      --disabled-fill-color: #AAA;\n",
       "      --disabled-bg-color: #DDD;\n",
       "  }\n",
       "\n",
       "  [theme=dark] .colab-df-quickchart {\n",
       "      --bg-color: #3B4455;\n",
       "      --fill-color: #D2E3FC;\n",
       "      --hover-bg-color: #434B5C;\n",
       "      --hover-fill-color: #FFFFFF;\n",
       "      --disabled-bg-color: #3B4455;\n",
       "      --disabled-fill-color: #666;\n",
       "  }\n",
       "\n",
       "  .colab-df-quickchart {\n",
       "    background-color: var(--bg-color);\n",
       "    border: none;\n",
       "    border-radius: 50%;\n",
       "    cursor: pointer;\n",
       "    display: none;\n",
       "    fill: var(--fill-color);\n",
       "    height: 32px;\n",
       "    padding: 0;\n",
       "    width: 32px;\n",
       "  }\n",
       "\n",
       "  .colab-df-quickchart:hover {\n",
       "    background-color: var(--hover-bg-color);\n",
       "    box-shadow: 0 1px 2px rgba(60, 64, 67, 0.3), 0 1px 3px 1px rgba(60, 64, 67, 0.15);\n",
       "    fill: var(--button-hover-fill-color);\n",
       "  }\n",
       "\n",
       "  .colab-df-quickchart-complete:disabled,\n",
       "  .colab-df-quickchart-complete:disabled:hover {\n",
       "    background-color: var(--disabled-bg-color);\n",
       "    fill: var(--disabled-fill-color);\n",
       "    box-shadow: none;\n",
       "  }\n",
       "\n",
       "  .colab-df-spinner {\n",
       "    border: 2px solid var(--fill-color);\n",
       "    border-color: transparent;\n",
       "    border-bottom-color: var(--fill-color);\n",
       "    animation:\n",
       "      spin 1s steps(1) infinite;\n",
       "  }\n",
       "\n",
       "  @keyframes spin {\n",
       "    0% {\n",
       "      border-color: transparent;\n",
       "      border-bottom-color: var(--fill-color);\n",
       "      border-left-color: var(--fill-color);\n",
       "    }\n",
       "    20% {\n",
       "      border-color: transparent;\n",
       "      border-left-color: var(--fill-color);\n",
       "      border-top-color: var(--fill-color);\n",
       "    }\n",
       "    30% {\n",
       "      border-color: transparent;\n",
       "      border-left-color: var(--fill-color);\n",
       "      border-top-color: var(--fill-color);\n",
       "      border-right-color: var(--fill-color);\n",
       "    }\n",
       "    40% {\n",
       "      border-color: transparent;\n",
       "      border-right-color: var(--fill-color);\n",
       "      border-top-color: var(--fill-color);\n",
       "    }\n",
       "    60% {\n",
       "      border-color: transparent;\n",
       "      border-right-color: var(--fill-color);\n",
       "    }\n",
       "    80% {\n",
       "      border-color: transparent;\n",
       "      border-right-color: var(--fill-color);\n",
       "      border-bottom-color: var(--fill-color);\n",
       "    }\n",
       "    90% {\n",
       "      border-color: transparent;\n",
       "      border-bottom-color: var(--fill-color);\n",
       "    }\n",
       "  }\n",
       "</style>\n",
       "\n",
       "  <script>\n",
       "    async function quickchart(key) {\n",
       "      const quickchartButtonEl =\n",
       "        document.querySelector('#' + key + ' button');\n",
       "      quickchartButtonEl.disabled = true;  // To prevent multiple clicks.\n",
       "      quickchartButtonEl.classList.add('colab-df-spinner');\n",
       "      try {\n",
       "        const charts = await google.colab.kernel.invokeFunction(\n",
       "            'suggestCharts', [key], {});\n",
       "      } catch (error) {\n",
       "        console.error('Error during call to suggestCharts:', error);\n",
       "      }\n",
       "      quickchartButtonEl.classList.remove('colab-df-spinner');\n",
       "      quickchartButtonEl.classList.add('colab-df-quickchart-complete');\n",
       "    }\n",
       "    (() => {\n",
       "      let quickchartButtonEl =\n",
       "        document.querySelector('#df-93a8bda1-2191-4d1d-9b79-dee4921e91bb button');\n",
       "      quickchartButtonEl.style.display =\n",
       "        google.colab.kernel.accessAllowed ? 'block' : 'none';\n",
       "    })();\n",
       "  </script>\n",
       "</div>\n",
       "\n",
       "    </div>\n",
       "  </div>\n"
      ],
      "text/plain": [
       "   id                                               href  \\\n",
       "0   1  http://letsintern.com/internship/human-resourc...   \n",
       "1   2  http://letsintern.com/internship/tele-sales-ex...   \n",
       "2   3  http://letsintern.com/internship/marketing-pro...   \n",
       "3   4  http://letsintern.com/internship/accountant-in...   \n",
       "4   5  http://letsintern.com/internship/software-deve...   \n",
       "\n",
       "                                        job_title  \\\n",
       "0                      hr executive - recruitment   \n",
       "1                   telecalling & lead generation   \n",
       "2                    digital marketing internship   \n",
       "3  recruitment of corporate bank back office post   \n",
       "4                              software developer   \n",
       "\n",
       "                           company_name  \\\n",
       "0                  engenia technologies   \n",
       "1          abalone technologies pvt ltd   \n",
       "2  brandstory digital marketing company   \n",
       "3                       bandhan pvt.ltd   \n",
       "4                           trippyigloo   \n",
       "\n",
       "                                  job_loc  \\\n",
       "0                                 gurgaon   \n",
       "1                                   noida   \n",
       "2                               bangalore   \n",
       "3  kathua,barasat,bardhaman,bongoan,habra   \n",
       "4                               bangalore   \n",
       "\n",
       "                                             details  \\\n",
       "0                 we are seeking a hr recruiter w...   \n",
       "1                 selected intern's day-to-day re...   \n",
       "2                 are you looking for digital mar...   \n",
       "3                 huge opportunity in corporate b...   \n",
       "4                 we are looking for interns who ...   \n",
       "\n",
       "                      category compensation       start         end  \\\n",
       "0    human resources recruiter         paid  2019-03-02  2019-08-28   \n",
       "1         tele sales executive         paid  2019-02-17  2019-08-30   \n",
       "2       marketing professional         paid  2018-12-25  2020-04-29   \n",
       "3                   accountant         paid  2019-03-12         NaN   \n",
       "4  software developer : python         paid  2019-01-30  2019-06-20   \n",
       "\n",
       "                                              skills  \\\n",
       "0                                       hr practices   \n",
       "1                              office administration   \n",
       "2                                  digital marketing   \n",
       "3                                  analytical skills   \n",
       "4                    go(golang),java,mongodb,ngin...   \n",
       "\n",
       "                                              href.1  \n",
       "0  http://letsintern.com/internship/Human-Resourc...  \n",
       "1  http://letsintern.com/internship/Tele-Sales-Ex...  \n",
       "2  http://letsintern.com/internship/Marketing-Pro...  \n",
       "3  http://letsintern.com/internship/Accountant-in...  \n",
       "4  http://letsintern.com/internship/Software-Deve...  "
      ]
     },
     "execution_count": 28,
     "metadata": {},
     "output_type": "execute_result"
    }
   ],
   "source": [
    "df.head()"
   ]
  },
  {
   "cell_type": "markdown",
   "metadata": {
    "id": "QLdzRmdll_hD"
   },
   "source": [
    "Getting insights from the data."
   ]
  },
  {
   "cell_type": "code",
   "execution_count": null,
   "metadata": {
    "colab": {
     "base_uri": "https://localhost:8080/"
    },
    "id": "g2BFN6jwd2v-",
    "outputId": "0fa64ca6-f78b-40ff-affb-862b03833a54"
   },
   "outputs": [
    {
     "name": "stdout",
     "output_type": "stream",
     "text": [
      "<class 'pandas.core.frame.DataFrame'>\n",
      "RangeIndex: 626 entries, 0 to 625\n",
      "Data columns (total 13 columns):\n",
      " #   Column        Non-Null Count  Dtype  \n",
      "---  ------        --------------  -----  \n",
      " 0   id            626 non-null    int64  \n",
      " 1   href          626 non-null    object \n",
      " 2   job_title     626 non-null    object \n",
      " 3   company_name  626 non-null    object \n",
      " 4   job_loc       626 non-null    object \n",
      " 5   details       625 non-null    object \n",
      " 6   category      626 non-null    object \n",
      " 7   compensation  626 non-null    object \n",
      " 8   start         626 non-null    object \n",
      " 9   end           411 non-null    object \n",
      " 10  skills        626 non-null    object \n",
      " 11  href.1        626 non-null    object \n",
      " 12  similarity    626 non-null    float64\n",
      "dtypes: float64(1), int64(1), object(11)\n",
      "memory usage: 63.7+ KB\n"
     ]
    }
   ],
   "source": [
    "df.info()"
   ]
  },
  {
   "cell_type": "markdown",
   "metadata": {
    "id": "irFwFS66mCkk"
   },
   "source": [
    "Importing Pyresparser library."
   ]
  },
  {
   "cell_type": "code",
   "execution_count": null,
   "metadata": {
    "id": "mHxHx_C5j_I7"
   },
   "outputs": [],
   "source": [
    "from pyresparser import ResumeParser\n",
    "import warnings\n",
    "warnings.filterwarnings(\"ignore\", category=UserWarning)"
   ]
  },
  {
   "cell_type": "code",
   "execution_count": null,
   "metadata": {
    "id": "99hefJIokNq9"
   },
   "outputs": [],
   "source": [
    "data = ResumeParser(\"/content/Black and White Corporate Resume.pdf\").get_extracted_data()"
   ]
  },
  {
   "cell_type": "markdown",
   "metadata": {
    "id": "PkUPrbVhmHZK"
   },
   "source": [
    "###Extracting information from resume.\n",
    "\n"
   ]
  },
  {
   "cell_type": "code",
   "execution_count": null,
   "metadata": {
    "colab": {
     "base_uri": "https://localhost:8080/"
    },
    "id": "xLSNoZ8vkRnH",
    "outputId": "a19cb9bc-b726-4fcf-d1f5-9ca9b49fa756"
   },
   "outputs": [
    {
     "data": {
      "text/plain": [
       "{'name': 'O +123',\n",
       " 'email': 'hello@reallygreatsite.com',\n",
       " 'mobile_number': '123-456-7890',\n",
       " 'skills': ['International',\n",
       "  'P',\n",
       "  'Reporting',\n",
       "  'Operations',\n",
       "  'Administration',\n",
       "  'Sales',\n",
       "  'Alliances',\n",
       "  'Communication',\n",
       "  'R',\n",
       "  'Video',\n",
       "  'Negotiation'],\n",
       " 'college_name': None,\n",
       " 'degree': None,\n",
       " 'designation': ['Business Development', 'Operations Manager'],\n",
       " 'experience': ['October 2019 - Present'],\n",
       " 'company_names': ['Ginyard International Co.', 'PROFESSIONAL EXPERIENCE'],\n",
       " 'no_of_pages': 2,\n",
       " 'total_experience': 4.75}"
      ]
     },
     "execution_count": 44,
     "metadata": {},
     "output_type": "execute_result"
    }
   ],
   "source": [
    "data"
   ]
  },
  {
   "cell_type": "markdown",
   "metadata": {
    "id": "j6GPjSRWmk1M"
   },
   "source": [
    "###Extracting Skills and Designation"
   ]
  },
  {
   "cell_type": "code",
   "execution_count": null,
   "metadata": {
    "id": "3fmxoWMTmuyh"
   },
   "outputs": [],
   "source": [
    "user_skills = data['skills']\n",
    "user_deets = data['designation']"
   ]
  },
  {
   "cell_type": "code",
   "execution_count": null,
   "metadata": {
    "id": "PnrUX0FGqhRG"
   },
   "outputs": [],
   "source": [
    "user_details = ' '.join([str(elem) for elem in user_deets])\n",
    "user_details += ' for ' + str(data['total_experience']) + ' years at ' + ' '.join([str(elem) for elem in data['company_names']])"
   ]
  },
  {
   "cell_type": "markdown",
   "metadata": {
    "id": "0rbXfJ1_mraR"
   },
   "source": [
    "Storing both User Skills and Details in a single String."
   ]
  },
  {
   "cell_type": "code",
   "execution_count": null,
   "metadata": {
    "colab": {
     "base_uri": "https://localhost:8080/",
     "height": 35
    },
    "id": "jtj70f3rrHgt",
    "outputId": "56bd91f6-7b66-4bcd-9315-54a5f989fe1d"
   },
   "outputs": [
    {
     "data": {
      "application/vnd.google.colaboratory.intrinsic+json": {
       "type": "string"
      },
      "text/plain": [
       "'Business Development Operations Manager for 4.75 years at Ginyard International Co. PROFESSIONAL EXPERIENCE'"
      ]
     },
     "execution_count": 54,
     "metadata": {},
     "output_type": "execute_result"
    }
   ],
   "source": [
    "user_details"
   ]
  },
  {
   "cell_type": "markdown",
   "metadata": {
    "id": "3DcIW9yAoA9r"
   },
   "source": [
    "###Calculating Similarity Score using \"User Details String\""
   ]
  },
  {
   "cell_type": "markdown",
   "metadata": {
    "id": "mP1C3HJwoHqD"
   },
   "source": [
    "Using spaCy's similarity() method which calculates similarity between job description and User details."
   ]
  },
  {
   "cell_type": "code",
   "execution_count": null,
   "metadata": {
    "colab": {
     "base_uri": "https://localhost:8080/"
    },
    "id": "GNR87UMqcwKB",
    "outputId": "88a23d23-c73f-4bff-eb0f-f3e678c80883"
   },
   "outputs": [
    {
     "name": "stdout",
     "output_type": "stream",
     "text": [
      "      id                                            details  similarity\n",
      "0      1                 we are seeking a hr recruiter w...    0.811893\n",
      "1      2                 selected intern's day-to-day re...    0.796353\n",
      "2      3                 are you looking for digital mar...    0.803698\n",
      "3      4                 huge opportunity in corporate b...    0.850605\n",
      "4      5                 we are looking for interns who ...    0.817470\n",
      "..   ...                                                ...         ...\n",
      "621  649                 we are seeking full time sales ...    0.846103\n",
      "622  650                 we are looking for hardworking ...    0.777054\n",
      "623  651                 we are looking for enthusiastic...    0.855585\n",
      "624  652                 agro2o® is new delhi based agri...    0.809940\n",
      "625  653                 we are looking for a content wr...    0.746010\n",
      "\n",
      "[626 rows x 3 columns]\n"
     ]
    }
   ],
   "source": [
    "user_doc = nlp(user_details)\n",
    "\n",
    "# Function to compute similarity\n",
    "def compute_similarity(details, user_doc):\n",
    "    if type(details) != str:\n",
    "        return 0.0\n",
    "    detail_doc = nlp(details)\n",
    "    return detail_doc.similarity(user_doc)\n",
    "\n",
    "# Apply the similarity function to the dataset\n",
    "df['similarity'] = df['details'].apply(lambda x: compute_similarity(x, user_doc))\n",
    "\n",
    "# Display the dataframe with similarity scores\n",
    "print(df[['id', 'details', 'similarity']])\n"
   ]
  },
  {
   "cell_type": "markdown",
   "metadata": {
    "id": "Un4K-FTOs7Md"
   },
   "source": [
    "Defining RL Hyperparameters."
   ]
  },
  {
   "cell_type": "code",
   "execution_count": null,
   "metadata": {
    "id": "ufHLcZ4ks6uj"
   },
   "outputs": [],
   "source": [
    "num_episodes = 1000\n",
    "learning_rate = 0.1\n",
    "discount_factor = 0.9\n",
    "epsilon = 0.1"
   ]
  },
  {
   "cell_type": "markdown",
   "metadata": {
    "id": "2-RNKBZItE-P"
   },
   "source": [
    "Defining Q-Table"
   ]
  },
  {
   "cell_type": "code",
   "execution_count": null,
   "metadata": {
    "id": "tVLX5gGYtEke"
   },
   "outputs": [],
   "source": [
    "num_jobs = len(df)\n",
    "num_actions = num_jobs  # Each job is an action\n",
    "\n",
    "# Q-table\n",
    "Q = np.zeros((1, num_actions))"
   ]
  },
  {
   "cell_type": "markdown",
   "metadata": {
    "id": "1TlThLqGtN3C"
   },
   "source": [
    "Defining Reward Function"
   ]
  },
  {
   "cell_type": "markdown",
   "metadata": {
    "id": "NU5Cp5Vwt28B"
   },
   "source": [
    "Reward for recommending job based on skills and similarity score."
   ]
  },
  {
   "cell_type": "markdown",
   "metadata": {
    "id": "B2FGToWwt-3C"
   },
   "source": [
    "Reward increases based on number of matching skills between User Skills and Job required skills."
   ]
  },
  {
   "cell_type": "markdown",
   "metadata": {
    "id": "qd5eGSre8o5X"
   },
   "source": [
    "Similarity score is added to this Reward."
   ]
  },
  {
   "cell_type": "code",
   "execution_count": null,
   "metadata": {
    "id": "IJQmYi7LtNMB"
   },
   "outputs": [],
   "source": [
    "def reward_function(job_idx, user_skills, df):\n",
    "    job_skills = df.iloc[job_idx]['skills'].split(', ')\n",
    "    skill_match = len(set(job_skills) & set(user_skills))\n",
    "    return df.iloc[job_idx]['similarity'] + skill_match"
   ]
  },
  {
   "cell_type": "markdown",
   "metadata": {
    "id": "T7mvJVTL8t1y"
   },
   "source": [
    "###Q-Learning Algorithm:"
   ]
  },
  {
   "cell_type": "markdown",
   "metadata": {
    "id": "NpTYIT5b9tFw"
   },
   "source": [
    "Epsilon Greedy Approach."
   ]
  },
  {
   "cell_type": "markdown",
   "metadata": {
    "id": "0qsqf22G9oCz"
   },
   "source": [
    "Updating Q value."
   ]
  },
  {
   "cell_type": "code",
   "execution_count": null,
   "metadata": {
    "id": "RoUDoYlg992r"
   },
   "outputs": [],
   "source": [
    "for episode in range(num_episodes):\n",
    "    state = 0  # Only one state in this simplified environment\n",
    "    for job_idx in range(num_jobs):\n",
    "        if random.uniform(0, 1) < epsilon:\n",
    "            action = random.choice(range(num_actions))  # Explore\n",
    "        else:\n",
    "            action = np.argmax(Q[state])  # Exploit\n",
    "\n",
    "        reward = reward_function(action, user_skills, df)\n",
    "        Q[state, action] = Q[state, action] + learning_rate * (reward + discount_factor * np.max(Q[state]) - Q[state, action])"
   ]
  },
  {
   "cell_type": "markdown",
   "metadata": {
    "id": "sybwtG5O-Aqi"
   },
   "source": [
    "###Top 3 Recommended Internships with highest Q-Value:"
   ]
  },
  {
   "cell_type": "code",
   "execution_count": null,
   "metadata": {
    "id": "IWZ1TrVj95x9"
   },
   "outputs": [],
   "source": [
    "recommended_jobs = np.argsort(Q[0])[-3:][::-1]  # Top 3 recommendations"
   ]
  },
  {
   "cell_type": "markdown",
   "metadata": {
    "id": "CJSK1LpB-K6A"
   },
   "source": [
    "###Displaying Top 3 Recommedations:"
   ]
  },
  {
   "cell_type": "code",
   "execution_count": null,
   "metadata": {
    "colab": {
     "base_uri": "https://localhost:8080/"
    },
    "id": "Qap32VaSdiPG",
    "outputId": "8f42d897-4b70-4896-8f5b-5a14119d0062"
   },
   "outputs": [
    {
     "name": "stdout",
     "output_type": "stream",
     "text": [
      "Recommended internships based on your profile:\n",
      "Job ID: 553, Job Title: sales associates, Similarity: 0.87, Skills:                   analytical skills,sales situation handling - basic\n",
      "Job ID: 194, Job Title: operations executive, Similarity: 0.87, Skills:                   accounting,agreeableness\n",
      "Job ID: 153, Job Title: marketing interns, Similarity: 0.87, Skills:                   marketing,sales situation handling - basic,writing skills\n"
     ]
    }
   ],
   "source": [
    "# Display recommended jobs\n",
    "print(\"Recommended internships based on your profile:\")\n",
    "for job_idx in recommended_jobs:\n",
    "    print(f\"Job ID: {df.iloc[job_idx]['id']}, Job Title: {df.iloc[job_idx]['job_title']}, Similarity: {df.iloc[job_idx]['similarity']:.2f}, Skills: {df.iloc[job_idx]['skills']}\")"
   ]
  },
  {
   "cell_type": "markdown",
   "metadata": {
    "id": "THVj20pH-POU"
   },
   "source": [
    "###Saving Q-Table in Numpy file."
   ]
  },
  {
   "cell_type": "code",
   "execution_count": null,
   "metadata": {
    "id": "ELqGBB3xmaCJ"
   },
   "outputs": [],
   "source": [
    "np.save('q_table.npy', Q)"
   ]
  }
 ],
 "metadata": {
  "colab": {
   "provenance": []
  },
  "kernelspec": {
   "display_name": "Python 3 (ipykernel)",
   "language": "python",
   "name": "python3"
  },
  "language_info": {
   "codemirror_mode": {
    "name": "ipython",
    "version": 3
   },
   "file_extension": ".py",
   "mimetype": "text/x-python",
   "name": "python",
   "nbconvert_exporter": "python",
   "pygments_lexer": "ipython3",
   "version": "3.11.5"
  }
 },
 "nbformat": 4,
 "nbformat_minor": 1
}
